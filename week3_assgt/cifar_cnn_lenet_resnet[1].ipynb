{
  "cells": [
    {
      "cell_type": "code",
      "execution_count": 1,
      "id": "4050ceda",
      "metadata": {
        "execution": {
          "iopub.execute_input": "2025-06-08T22:07:27.295427Z",
          "iopub.status.busy": "2025-06-08T22:07:27.295141Z",
          "iopub.status.idle": "2025-06-08T22:07:27.299504Z",
          "shell.execute_reply": "2025-06-08T22:07:27.298755Z",
          "shell.execute_reply.started": "2025-06-08T22:07:27.295406Z"
        },
        "id": "4050ceda",
        "trusted": true
      },
      "outputs": [],
      "source": [
        "import torch\n",
        "from torchvision import datasets, transforms\n",
        "from torch.utils.data import DataLoader, random_split\n",
        "from sklearn.metrics import classification_report, confusion_matrix"
      ]
    },
    {
      "cell_type": "code",
      "execution_count": 2,
      "id": "28e18ef3",
      "metadata": {
        "execution": {
          "iopub.execute_input": "2025-06-08T22:07:32.996800Z",
          "iopub.status.busy": "2025-06-08T22:07:32.996069Z",
          "iopub.status.idle": "2025-06-08T22:07:33.001132Z",
          "shell.execute_reply": "2025-06-08T22:07:33.000389Z",
          "shell.execute_reply.started": "2025-06-08T22:07:32.996775Z"
        },
        "id": "28e18ef3",
        "trusted": true
      },
      "outputs": [],
      "source": [
        "train_transform = transforms.Compose([\n",
        "    transforms.RandomHorizontalFlip(),\n",
        "    transforms.RandomCrop(32, padding=4),\n",
        "    transforms.RandomRotation(10),\n",
        "    transforms.ToTensor(),\n",
        "    transforms.Normalize((0.5, 0.5, 0.5),\n",
        "                         (0.5, 0.5, 0.5))\n",
        "])\n"
      ]
    },
    {
      "cell_type": "code",
      "execution_count": 3,
      "id": "c9282571",
      "metadata": {
        "execution": {
          "iopub.execute_input": "2025-06-08T22:07:33.547172Z",
          "iopub.status.busy": "2025-06-08T22:07:33.546908Z",
          "iopub.status.idle": "2025-06-08T22:07:33.550919Z",
          "shell.execute_reply": "2025-06-08T22:07:33.550186Z",
          "shell.execute_reply.started": "2025-06-08T22:07:33.547153Z"
        },
        "id": "c9282571",
        "trusted": true
      },
      "outputs": [],
      "source": [
        "test_transform = transforms.Compose([\n",
        "    transforms.ToTensor(),\n",
        "    transforms.Normalize((0.5, 0.5, 0.5),\n",
        "                         (0.5, 0.5, 0.5))\n",
        "])\n"
      ]
    },
    {
      "cell_type": "code",
      "execution_count": 4,
      "id": "052b2144",
      "metadata": {
        "colab": {
          "base_uri": "https://localhost:8080/"
        },
        "execution": {
          "iopub.execute_input": "2025-06-08T22:07:34.488441Z",
          "iopub.status.busy": "2025-06-08T22:07:34.488113Z",
          "iopub.status.idle": "2025-06-08T22:07:39.276084Z",
          "shell.execute_reply": "2025-06-08T22:07:39.275481Z",
          "shell.execute_reply.started": "2025-06-08T22:07:34.488415Z"
        },
        "id": "052b2144",
        "outputId": "75852ffc-9d74-4390-ce52-477b05c25579",
        "trusted": true
      },
      "outputs": [
        {
          "name": "stderr",
          "output_type": "stream",
          "text": [
            "100%|██████████| 170M/170M [00:02<00:00, 67.8MB/s]\n"
          ]
        }
      ],
      "source": [
        "full_train_dataset = datasets.CIFAR10(root='./data', train=True, download=True, transform=train_transform)\n"
      ]
    },
    {
      "cell_type": "code",
      "execution_count": 5,
      "id": "5018585e",
      "metadata": {
        "execution": {
          "iopub.execute_input": "2025-06-08T22:07:39.277453Z",
          "iopub.status.busy": "2025-06-08T22:07:39.277181Z",
          "iopub.status.idle": "2025-06-08T22:07:39.953290Z",
          "shell.execute_reply": "2025-06-08T22:07:39.952750Z",
          "shell.execute_reply.started": "2025-06-08T22:07:39.277429Z"
        },
        "id": "5018585e",
        "trusted": true
      },
      "outputs": [],
      "source": [
        "test_dataset = datasets.CIFAR10(root='./data', train=False, download=True, transform=test_transform)\n"
      ]
    },
    {
      "cell_type": "code",
      "execution_count": 6,
      "id": "0690e68f",
      "metadata": {
        "execution": {
          "iopub.execute_input": "2025-06-08T22:07:44.287290Z",
          "iopub.status.busy": "2025-06-08T22:07:44.286686Z",
          "iopub.status.idle": "2025-06-08T22:07:44.292011Z",
          "shell.execute_reply": "2025-06-08T22:07:44.291101Z",
          "shell.execute_reply.started": "2025-06-08T22:07:44.287256Z"
        },
        "id": "0690e68f",
        "trusted": true
      },
      "outputs": [],
      "source": [
        "train_size = int(0.85 * len(full_train_dataset))\n",
        "val_size = len(full_train_dataset) - train_size\n"
      ]
    },
    {
      "cell_type": "code",
      "execution_count": 7,
      "id": "21173383",
      "metadata": {
        "execution": {
          "iopub.execute_input": "2025-06-08T22:07:44.816006Z",
          "iopub.status.busy": "2025-06-08T22:07:44.815693Z",
          "iopub.status.idle": "2025-06-08T22:07:44.824694Z",
          "shell.execute_reply": "2025-06-08T22:07:44.824075Z",
          "shell.execute_reply.started": "2025-06-08T22:07:44.815986Z"
        },
        "id": "21173383",
        "trusted": true
      },
      "outputs": [],
      "source": [
        "train_dataset, val_dataset = random_split(full_train_dataset, [train_size, val_size])\n"
      ]
    },
    {
      "cell_type": "code",
      "execution_count": 8,
      "id": "31f2d3f6",
      "metadata": {
        "execution": {
          "iopub.execute_input": "2025-06-08T22:07:45.232303Z",
          "iopub.status.busy": "2025-06-08T22:07:45.231619Z",
          "iopub.status.idle": "2025-06-08T22:07:45.235480Z",
          "shell.execute_reply": "2025-06-08T22:07:45.234740Z",
          "shell.execute_reply.started": "2025-06-08T22:07:45.232280Z"
        },
        "id": "31f2d3f6",
        "trusted": true
      },
      "outputs": [],
      "source": [
        "val_dataset.dataset.transform = test_transform\n"
      ]
    },
    {
      "cell_type": "code",
      "execution_count": 9,
      "id": "73e84dc2",
      "metadata": {
        "execution": {
          "iopub.execute_input": "2025-06-08T22:07:49.121015Z",
          "iopub.status.busy": "2025-06-08T22:07:49.120684Z",
          "iopub.status.idle": "2025-06-08T22:07:49.125066Z",
          "shell.execute_reply": "2025-06-08T22:07:49.124360Z",
          "shell.execute_reply.started": "2025-06-08T22:07:49.120995Z"
        },
        "id": "73e84dc2",
        "trusted": true
      },
      "outputs": [],
      "source": [
        "train_loader = DataLoader(train_dataset, batch_size=64, shuffle=True, num_workers=2)\n"
      ]
    },
    {
      "cell_type": "code",
      "execution_count": 10,
      "id": "971d08ed",
      "metadata": {
        "execution": {
          "iopub.execute_input": "2025-06-08T22:07:49.563323Z",
          "iopub.status.busy": "2025-06-08T22:07:49.562650Z",
          "iopub.status.idle": "2025-06-08T22:07:49.567281Z",
          "shell.execute_reply": "2025-06-08T22:07:49.566534Z",
          "shell.execute_reply.started": "2025-06-08T22:07:49.563301Z"
        },
        "id": "971d08ed",
        "trusted": true
      },
      "outputs": [],
      "source": [
        "val_loader = DataLoader(val_dataset, batch_size=64, shuffle=False, num_workers=2)\n",
        "test_loader = DataLoader(test_dataset, batch_size=64, shuffle=False, num_workers=2)\n"
      ]
    },
    {
      "cell_type": "code",
      "execution_count": null,
      "id": "ecd528fb",
      "metadata": {
        "execution": {
          "iopub.execute_input": "2025-06-08T22:07:49.919487Z",
          "iopub.status.busy": "2025-06-08T22:07:49.919219Z",
          "iopub.status.idle": "2025-06-08T22:07:49.924317Z",
          "shell.execute_reply": "2025-06-08T22:07:49.923731Z",
          "shell.execute_reply.started": "2025-06-08T22:07:49.919467Z"
        },
        "id": "ecd528fb",
        "trusted": true
      },
      "outputs": [],
      "source": [
        "import torch\n",
        "import torch.nn as nn\n",
        "import torch.nn.functional as F\n",
        "\n",
        "class SimpleANN(nn.Module):\n",
        "    def __init__(self):\n",
        "        super(SimpleANN, self).__init__()\n",
        "        self.fc1 = nn.Linear(32 * 32 * 3, 512)\n",
        "        self.fc2 = nn.Linear(512, 256)\n",
        "        self.fc3 = nn.Linear(256, 10)\n",
        "\n",
        "    def forward(self, x):\n",
        "        x = x.view(x.size(0), -1)\n",
        "        x = F.relu(self.fc1(x))\n",
        "        x = F.relu(self.fc2(x))\n",
        "        x = self.fc3(x)\n",
        "        return x\n"
      ]
    },
    {
      "cell_type": "code",
      "execution_count": null,
      "id": "gWDIR_oVNhei",
      "metadata": {
        "execution": {
          "iopub.execute_input": "2025-06-08T22:07:50.202816Z",
          "iopub.status.busy": "2025-06-08T22:07:50.202276Z",
          "iopub.status.idle": "2025-06-08T22:07:50.208515Z",
          "shell.execute_reply": "2025-06-08T22:07:50.207823Z",
          "shell.execute_reply.started": "2025-06-08T22:07:50.202792Z"
        },
        "id": "gWDIR_oVNhei",
        "trusted": true
      },
      "outputs": [],
      "source": [
        "class SimpleCNN(nn.Module):\n",
        "  def __init__(self):\n",
        "    super(SimpleCNN,self).__init__()\n",
        "    self.conv=nn.Sequential(\n",
        "        nn.Conv2d(3,32,kernel_size=3,padding=1),\n",
        "        nn.ReLU(),\n",
        "        nn.MaxPool2d(2),\n",
        "        nn.Conv2d(32,64,kernel_size=3,padding=1),\n",
        "        nn.ReLU(),\n",
        "        nn.MaxPool2d(2)\n",
        "    )\n",
        "    self.fcl=nn.Sequential(\n",
        "        nn.Linear(64*8*8,512),\n",
        "        nn.ReLU(),\n",
        "        nn.Linear(512,10)\n",
        "    )\n",
        "\n",
        "  def forward(self,x):\n",
        "    x=self.conv(x)\n",
        "    x=x.view(x.size(0),-1)\n",
        "    x=self.fcl(x)\n",
        "    return x\n"
      ]
    },
    {
      "cell_type": "code",
      "execution_count": 11,
      "id": "e8bb22d4",
      "metadata": {
        "execution": {
          "iopub.execute_input": "2025-06-08T22:07:51.890416Z",
          "iopub.status.busy": "2025-06-08T22:07:51.889944Z",
          "iopub.status.idle": "2025-06-08T22:07:51.897562Z",
          "shell.execute_reply": "2025-06-08T22:07:51.896961Z",
          "shell.execute_reply.started": "2025-06-08T22:07:51.890392Z"
        },
        "id": "e8bb22d4",
        "trusted": true
      },
      "outputs": [],
      "source": [
        "def train_model(model, train_loader, val_loader, epochs=10):\n",
        "    device = torch.device(\"cuda\" if torch.cuda.is_available() else \"cpu\")\n",
        "    model.to(device)\n",
        "\n",
        "    criterion = nn.CrossEntropyLoss()\n",
        "    optimizer = torch.optim.Adam(model.parameters(), lr=0.001)\n",
        "\n",
        "    train_losses, val_losses, val_accuracies = [], [], []\n",
        "\n",
        "    for epoch in range(epochs):\n",
        "        model.train()\n",
        "        total_train_loss = 0\n",
        "\n",
        "        for images, labels in train_loader:\n",
        "            images, labels = images.to(device), labels.to(device)\n",
        "            optimizer.zero_grad()\n",
        "            outputs = model(images)\n",
        "            loss = criterion(outputs, labels)\n",
        "            loss.backward()\n",
        "            optimizer.step()\n",
        "            total_train_loss += loss.item()\n",
        "\n",
        "        # Validation\n",
        "        model.eval()\n",
        "        total_val_loss = 0\n",
        "        correct, total = 0, 0\n",
        "\n",
        "        with torch.no_grad():\n",
        "            for images, labels in val_loader:\n",
        "                images, labels = images.to(device), labels.to(device)\n",
        "                outputs = model(images)\n",
        "                loss = criterion(outputs, labels)\n",
        "                total_val_loss += loss.item()\n",
        "                _, predicted = outputs.max(1)\n",
        "                correct += (predicted == labels).sum().item()\n",
        "                total += labels.size(0)\n",
        "\n",
        "        train_losses.append(total_train_loss / len(train_loader))\n",
        "        val_losses.append(total_val_loss / len(val_loader))\n",
        "        val_accuracies.append(100 * correct / total)\n",
        "\n",
        "        print(f\"Epoch [{epoch+1}/{epochs}], Train Loss: {train_losses[-1]:.4f}, \"\n",
        "              f\"Val Loss: {val_losses[-1]:.4f}, Val Acc: {val_accuracies[-1]:.2f}%\")\n",
        "\n",
        "    return train_losses, val_losses, val_accuracies\n"
      ]
    },
    {
      "cell_type": "markdown",
      "id": "COLZTRGyPtpZ",
      "metadata": {
        "id": "COLZTRGyPtpZ"
      },
      "source": [
        "# **ANN training**"
      ]
    },
    {
      "cell_type": "code",
      "execution_count": null,
      "id": "0f648c1c",
      "metadata": {
        "colab": {
          "base_uri": "https://localhost:8080/"
        },
        "execution": {
          "iopub.execute_input": "2025-06-08T22:07:54.874988Z",
          "iopub.status.busy": "2025-06-08T22:07:54.874654Z",
          "iopub.status.idle": "2025-06-08T22:08:55.612157Z",
          "shell.execute_reply": "2025-06-08T22:08:55.611221Z",
          "shell.execute_reply.started": "2025-06-08T22:07:54.874961Z"
        },
        "id": "0f648c1c",
        "outputId": "b66910bb-b127-44c4-b502-5ae1437b12f4",
        "trusted": true
      },
      "outputs": [
        {
          "name": "stdout",
          "output_type": "stream",
          "text": [
            "Epoch [1/7], Train Loss: 1.6605, Val Loss: 1.5279, Val Acc: 45.72%\n",
            "Epoch [2/7], Train Loss: 1.4509, Val Loss: 1.4413, Val Acc: 49.43%\n",
            "Epoch [3/7], Train Loss: 1.3324, Val Loss: 1.4099, Val Acc: 50.59%\n",
            "Epoch [4/7], Train Loss: 1.2417, Val Loss: 1.3993, Val Acc: 51.09%\n",
            "Epoch [5/7], Train Loss: 1.1514, Val Loss: 1.3844, Val Acc: 52.88%\n",
            "Epoch [6/7], Train Loss: 1.0716, Val Loss: 1.4574, Val Acc: 51.59%\n",
            "Epoch [7/7], Train Loss: 0.9978, Val Loss: 1.4604, Val Acc: 52.63%\n"
          ]
        }
      ],
      "source": [
        "a_model = SimpleANN()\n",
        "a_train_loss, a_val_loss, a_val_acc = train_model(a_model, train_loader, val_loader, epochs=7)\n"
      ]
    },
    {
      "cell_type": "code",
      "execution_count": null,
      "id": "62544209",
      "metadata": {
        "id": "62544209"
      },
      "outputs": [],
      "source": [
        "a_model = SimpleANN()\n",
        "train_loss, val_loss, val_acc = train_model(a_model, train_loader, val_loader, epochs=12)"
      ]
    },
    {
      "cell_type": "code",
      "execution_count": null,
      "id": "26606c0e",
      "metadata": {
        "id": "26606c0e"
      },
      "outputs": [],
      "source": [
        "a_model = SimpleANN()\n",
        "train_loss, val_loss, val_acc = train_model(a_model, train_loader, val_loader, epochs=20)"
      ]
    },
    {
      "cell_type": "markdown",
      "id": "gebcXpg8PzWF",
      "metadata": {
        "id": "gebcXpg8PzWF"
      },
      "source": [
        "# **CNN Training**"
      ]
    },
    {
      "cell_type": "code",
      "execution_count": null,
      "id": "BmBDn4zhPFjH",
      "metadata": {
        "colab": {
          "base_uri": "https://localhost:8080/"
        },
        "execution": {
          "iopub.execute_input": "2025-06-08T22:08:55.614047Z",
          "iopub.status.busy": "2025-06-08T22:08:55.613823Z",
          "iopub.status.idle": "2025-06-08T22:10:00.108771Z",
          "shell.execute_reply": "2025-06-08T22:10:00.107953Z",
          "shell.execute_reply.started": "2025-06-08T22:08:55.614027Z"
        },
        "id": "BmBDn4zhPFjH",
        "outputId": "8fe48021-4a86-4a4f-8679-0962d949a8f2",
        "trusted": true
      },
      "outputs": [
        {
          "name": "stdout",
          "output_type": "stream",
          "text": [
            "Epoch [1/7], Train Loss: 1.3174, Val Loss: 1.0498, Val Acc: 62.88%\n",
            "Epoch [2/7], Train Loss: 0.9277, Val Loss: 0.9439, Val Acc: 66.92%\n",
            "Epoch [3/7], Train Loss: 0.7422, Val Loss: 0.8244, Val Acc: 71.37%\n",
            "Epoch [4/7], Train Loss: 0.5733, Val Loss: 0.8270, Val Acc: 71.13%\n",
            "Epoch [5/7], Train Loss: 0.4147, Val Loss: 0.9023, Val Acc: 71.40%\n",
            "Epoch [6/7], Train Loss: 0.2733, Val Loss: 0.9874, Val Acc: 72.19%\n",
            "Epoch [7/7], Train Loss: 0.1607, Val Loss: 1.0933, Val Acc: 72.55%\n"
          ]
        }
      ],
      "source": [
        "c_model = SimpleCNN()\n",
        "c_train_loss, c_val_loss, c_val_acc = train_model(c_model, train_loader, val_loader, epochs=7)"
      ]
    },
    {
      "cell_type": "code",
      "execution_count": null,
      "id": "V5dLxl21Y-PY",
      "metadata": {
        "colab": {
          "base_uri": "https://localhost:8080/",
          "height": 487
        },
        "execution": {
          "iopub.execute_input": "2025-06-08T22:10:00.110021Z",
          "iopub.status.busy": "2025-06-08T22:10:00.109744Z",
          "iopub.status.idle": "2025-06-08T22:10:00.394908Z",
          "shell.execute_reply": "2025-06-08T22:10:00.394197Z",
          "shell.execute_reply.started": "2025-06-08T22:10:00.109996Z"
        },
        "id": "V5dLxl21Y-PY",
        "outputId": "abff6f1c-a4de-49fe-cdf9-c2d5a7f8c8cf",
        "trusted": true
      },
      "outputs": [
        {
          "data": {
            "image/png": "[encoded data removed]",
            "text/plain": [
              "<Figure size 1000x500 with 1 Axes>"
            ]
          },
          "metadata": {},
          "output_type": "display_data"
        }
      ],
      "source": [
        "import matplotlib.pyplot as plt\n",
        "\n",
        "plt.figure(figsize=(10, 5))\n",
        "plt.plot(a_train_loss, label='ANN Train')\n",
        "plt.plot(a_val_loss , label='ANN Val')\n",
        "plt.plot(c_train_loss, label='CNN Train')\n",
        "plt.plot(c_val_loss, label='CNN Val')\n",
        "plt.xlabel(\"Epochs\")\n",
        "plt.ylabel(\"Loss\")\n",
        "plt.title(\"Training and Validation Loss\")\n",
        "plt.legend()\n",
        "plt.grid(True)\n",
        "plt.show()"
      ]
    },
    {
      "cell_type": "code",
      "execution_count": null,
      "id": "G9413wxBT150",
      "metadata": {
        "execution": {
          "iopub.execute_input": "2025-06-08T22:10:00.396648Z",
          "iopub.status.busy": "2025-06-08T22:10:00.396434Z",
          "iopub.status.idle": "2025-06-08T22:10:00.401408Z",
          "shell.execute_reply": "2025-06-08T22:10:00.400824Z",
          "shell.execute_reply.started": "2025-06-08T22:10:00.396631Z"
        },
        "id": "G9413wxBT150",
        "trusted": true
      },
      "outputs": [],
      "source": [
        "def evaluate(model, test_loader):\n",
        "    model.eval()\n",
        "    correct, total = 0, 0\n",
        "    device = torch.device(\"cuda\" if torch.cuda.is_available() else \"cpu\")\n",
        "    model.to(device)\n",
        "\n",
        "    with torch.no_grad():\n",
        "        for images, labels in test_loader:\n",
        "            images, labels = images.to(device), labels.to(device)\n",
        "            outputs = model(images)\n",
        "            _, predicted = torch.max(outputs, 1)\n",
        "            total += labels.size(0)\n",
        "            correct += (predicted == labels).sum().item()\n",
        "    print(f\"Test Accuracy: {100 * correct / total:.2f}%\")"
      ]
    },
    {
      "cell_type": "code",
      "execution_count": null,
      "id": "Vakzu91OUGzg",
      "metadata": {
        "colab": {
          "base_uri": "https://localhost:8080/"
        },
        "execution": {
          "iopub.execute_input": "2025-06-08T22:10:00.402632Z",
          "iopub.status.busy": "2025-06-08T22:10:00.402394Z",
          "iopub.status.idle": "2025-06-08T22:10:03.821550Z",
          "shell.execute_reply": "2025-06-08T22:10:03.820779Z",
          "shell.execute_reply.started": "2025-06-08T22:10:00.402616Z"
        },
        "id": "Vakzu91OUGzg",
        "outputId": "911c935b-4cc7-4a4c-a1f1-80dfbb94aa12",
        "trusted": true
      },
      "outputs": [
        {
          "name": "stdout",
          "output_type": "stream",
          "text": [
            "Test Accuracy: 51.88%\n",
            "Test Accuracy: 72.38%\n"
          ]
        }
      ],
      "source": [
        "evaluate(a_model,test_loader)\n",
        "evaluate(c_model,test_loader)"
      ]
    },
    {
      "cell_type": "markdown",
      "id": "2qYuxy5KtFB2",
      "metadata": {
        "id": "2qYuxy5KtFB2"
      },
      "source": [
        "# **LeNet**"
      ]
    },
    {
      "cell_type": "code",
      "execution_count": 15,
      "id": "1SIJF8r4UGoP",
      "metadata": {
        "id": "1SIJF8r4UGoP",
        "trusted": true
      },
      "outputs": [],
      "source": [
        "grayscale=transforms.Compose([\n",
        "    transforms.Resize(32),\n",
        "    transforms.Grayscale(),\n",
        "    transforms.ToTensor()\n",
        "])"
      ]
    },
    {
      "cell_type": "code",
      "execution_count": 16,
      "id": "iZlgACCqtzDu",
      "metadata": {
        "id": "iZlgACCqtzDu"
      },
      "outputs": [],
      "source": [
        "train_dataset.dataset.transform = grayscale\n",
        "test_dataset.transform = grayscale\n",
        "val_dataset.dataset.transform = grayscale"
      ]
    },
    {
      "cell_type": "code",
      "execution_count": 17,
      "id": "wBIIKnkduKyV",
      "metadata": {
        "id": "wBIIKnkduKyV"
      },
      "outputs": [],
      "source": [
        "train_loader = DataLoader(train_dataset, batch_size=64, shuffle=True, num_workers=2)\n",
        "val_loader = DataLoader(val_dataset, batch_size=64, shuffle=False, num_workers=2)\n",
        "test_loader = DataLoader(test_dataset, batch_size=64, shuffle=False, num_workers=2)"
      ]
    },
    {
      "cell_type": "code",
      "execution_count": 27,
      "id": "mBUvYz5NuNII",
      "metadata": {
        "id": "mBUvYz5NuNII"
      },
      "outputs": [],
      "source": [
        "import torch.nn as nn\n",
        "class LeNet(nn.Module):\n",
        "  def __init__(self):\n",
        "    super(LeNet,self).__init__()\n",
        "    self.conv=nn.Sequential(\n",
        "        nn.Conv2d(1,6,kernel_size=5),\n",
        "        nn.ReLU(),\n",
        "        nn.AvgPool2d(kernel_size=2,stride=2),\n",
        "        nn.Conv2d(6,16,kernel_size=5),\n",
        "        nn.ReLU(),\n",
        "        nn.AvgPool2d(kernel_size=2,stride=2),\n",
        "        nn.Conv2d(16,120,kernel_size=5),\n",
        "        nn.ReLU()\n",
        "    )\n",
        "    self.fc=nn.Sequential(\n",
        "        nn.Linear(120,100),\n",
        "        nn.ReLU(),\n",
        "        nn.Dropout(0.3),\n",
        "        nn.Linear(100,70),\n",
        "        nn.ReLU(),\n",
        "        nn.Dropout(0.48),\n",
        "        nn.Linear(70,10)\n",
        "    )\n",
        "\n",
        "  def forward(self,x):\n",
        "    x=self.conv(x)\n",
        "    x=x.view(x.size(0),-1)\n",
        "    x=self.fc(x)\n",
        "    return x"
      ]
    },
    {
      "cell_type": "code",
      "execution_count": 28,
      "id": "s0wBoEQexYCQ",
      "metadata": {
        "id": "s0wBoEQexYCQ"
      },
      "outputs": [],
      "source": [
        "lenet= LeNet()\n",
        "\n",
        "device = torch.device(\"cuda\" if torch.cuda.is_available() else \"cpu\")\n",
        "lenet.to(device)\n",
        "\n",
        "optimizer = torch.optim.Adam(lenet.parameters(), lr=0.001)\n",
        "criterion = nn.CrossEntropyLoss()"
      ]
    },
    {
      "cell_type": "code",
      "execution_count": 29,
      "id": "y3WSdoL8xqib",
      "metadata": {
        "colab": {
          "base_uri": "https://localhost:8080/"
        },
        "id": "y3WSdoL8xqib",
        "outputId": "a637f52e-371d-4276-953d-b5757e6ea247"
      },
      "outputs": [
        {
          "name": "stdout",
          "output_type": "stream",
          "text": [
            "Epoch [1/12], Train Loss: 1.9953, Val Loss: 1.8676, Val Acc: 30.84%\n",
            "Epoch [2/12], Train Loss: 1.8059, Val Loss: 1.7447, Val Acc: 35.69%\n",
            "Epoch [3/12], Train Loss: 1.7226, Val Loss: 1.6287, Val Acc: 40.97%\n",
            "Epoch [4/12], Train Loss: 1.6423, Val Loss: 1.5536, Val Acc: 44.67%\n",
            "Epoch [5/12], Train Loss: 1.5672, Val Loss: 1.4832, Val Acc: 47.57%\n",
            "Epoch [6/12], Train Loss: 1.4999, Val Loss: 1.4260, Val Acc: 49.63%\n",
            "Epoch [7/12], Train Loss: 1.4408, Val Loss: 1.4116, Val Acc: 49.47%\n",
            "Epoch [8/12], Train Loss: 1.3958, Val Loss: 1.3509, Val Acc: 52.64%\n",
            "Epoch [9/12], Train Loss: 1.3534, Val Loss: 1.3123, Val Acc: 53.47%\n",
            "Epoch [10/12], Train Loss: 1.3176, Val Loss: 1.3023, Val Acc: 54.19%\n",
            "Epoch [11/12], Train Loss: 1.2909, Val Loss: 1.2941, Val Acc: 54.69%\n",
            "Epoch [12/12], Train Loss: 1.2537, Val Loss: 1.2577, Val Acc: 56.25%\n"
          ]
        },
        {
          "data": {
            "text/plain": [
              "([1.995331455173349,\n",
              "  1.8058628376265218,\n",
              "  1.7225717505118003,\n",
              "  1.6423028451159485,\n",
              "  1.5672341796688567,\n",
              "  1.4998990352888752,\n",
              "  1.4407885440310142,\n",
              "  1.3958210468292236,\n",
              "  1.3533514531931483,\n",
              "  1.3176063034767496,\n",
              "  1.290889204803266,\n",
              "  1.2537144064006949],\n",
              " [1.8675627930689667,\n",
              "  1.7447460617049266,\n",
              "  1.6287057844258972,\n",
              "  1.5535813600330028,\n",
              "  1.483176444546651,\n",
              "  1.4259978755045746,\n",
              "  1.4115880424693479,\n",
              "  1.3508975435111483,\n",
              "  1.312262661881366,\n",
              "  1.3022991858296475,\n",
              "  1.2940604085639371,\n",
              "  1.2577124409756417],\n",
              " [30.84,\n",
              "  35.693333333333335,\n",
              "  40.973333333333336,\n",
              "  44.666666666666664,\n",
              "  47.57333333333333,\n",
              "  49.626666666666665,\n",
              "  49.46666666666667,\n",
              "  52.64,\n",
              "  53.46666666666667,\n",
              "  54.18666666666667,\n",
              "  54.693333333333335,\n",
              "  56.25333333333333])"
            ]
          },
          "execution_count": 29,
          "metadata": {},
          "output_type": "execute_result"
        }
      ],
      "source": [
        "train_model(lenet,train_loader,val_loader,epochs=12)"
      ]
    },
    {
      "cell_type": "code",
      "execution_count": 30,
      "id": "VTaYopPcyA-m",
      "metadata": {
        "colab": {
          "base_uri": "https://localhost:8080/"
        },
        "id": "VTaYopPcyA-m",
        "outputId": "6c5cd9e4-b93b-4bdc-e016-bedb043c64b3"
      },
      "outputs": [
        {
          "name": "stdout",
          "output_type": "stream",
          "text": [
            "              precision    recall  f1-score   support\n",
            "\n",
            "    airplane       0.60      0.56      0.58      1000\n",
            "  automobile       0.72      0.68      0.70      1000\n",
            "        bird       0.40      0.43      0.41      1000\n",
            "         cat       0.31      0.19      0.24      1000\n",
            "        deer       0.47      0.45      0.46      1000\n",
            "         dog       0.45      0.55      0.49      1000\n",
            "        frog       0.70      0.58      0.64      1000\n",
            "       horse       0.64      0.65      0.65      1000\n",
            "        ship       0.59      0.78      0.67      1000\n",
            "       truck       0.59      0.67      0.63      1000\n",
            "\n",
            "    accuracy                           0.55     10000\n",
            "   macro avg       0.55      0.55      0.55     10000\n",
            "weighted avg       0.55      0.55      0.55     10000\n",
            "\n",
            "Confusion Matrix:\n",
            "[[563  27 150   9  36  12  10  15 138  40]\n",
            " [ 22 676   4  23  15   7  23   8  80 142]\n",
            " [ 99  11 429  59 108 145  45  30  43  31]\n",
            " [ 27  20 117 190 115 259  69  57  69  77]\n",
            " [ 50  13 164  57 454  64  47 104  30  17]\n",
            " [ 17   4  94 105  63 547  28  82  33  27]\n",
            " [ 13  36  49  95  71  36 582  20  46  52]\n",
            " [ 17   6  34  32  72 121   8 649  19  42]\n",
            " [ 90  35  25  13   7  12   6   8 777  27]\n",
            " [ 33 111   9  24  16  18  10  34  77 668]]\n"
          ]
        }
      ],
      "source": [
        "eval_u(lenet,test_loader)"
      ]
    },
    {
      "cell_type": "markdown",
      "id": "aVe1ECJAmZyT",
      "metadata": {
        "id": "aVe1ECJAmZyT"
      },
      "source": [
        "# **resnet**"
      ]
    },
    {
      "cell_type": "code",
      "execution_count": null,
      "id": "X1zCMu5umfwl",
      "metadata": {
        "execution": {
          "iopub.execute_input": "2025-06-08T22:10:03.822853Z",
          "iopub.status.busy": "2025-06-08T22:10:03.822559Z",
          "iopub.status.idle": "2025-06-08T22:10:03.827862Z",
          "shell.execute_reply": "2025-06-08T22:10:03.827160Z",
          "shell.execute_reply.started": "2025-06-08T22:10:03.822828Z"
        },
        "id": "X1zCMu5umfwl",
        "trusted": true
      },
      "outputs": [],
      "source": [
        "new_transform= transforms.Compose([\n",
        "    transforms.Resize((224,224)),\n",
        "    transforms.ToTensor(),\n",
        "    transforms.Normalize(mean=[0.485, 0.456, 0.406], std=[0.229, 0.224, 0.225])\n",
        "])"
      ]
    },
    {
      "cell_type": "code",
      "execution_count": null,
      "id": "U_NMrLW-n_Kz",
      "metadata": {
        "execution": {
          "iopub.execute_input": "2025-06-08T22:10:03.828682Z",
          "iopub.status.busy": "2025-06-08T22:10:03.828465Z",
          "iopub.status.idle": "2025-06-08T22:10:03.842164Z",
          "shell.execute_reply": "2025-06-08T22:10:03.841588Z",
          "shell.execute_reply.started": "2025-06-08T22:10:03.828667Z"
        },
        "id": "U_NMrLW-n_Kz",
        "trusted": true
      },
      "outputs": [],
      "source": [
        "train_dataset.dataset.transform = new_transform\n",
        "test_dataset.transform = new_transform\n",
        "val_dataset.dataset.transform = new_transform"
      ]
    },
    {
      "cell_type": "code",
      "execution_count": null,
      "id": "b19mYb2qvPdf",
      "metadata": {
        "execution": {
          "iopub.execute_input": "2025-06-08T22:10:03.843119Z",
          "iopub.status.busy": "2025-06-08T22:10:03.842874Z",
          "iopub.status.idle": "2025-06-08T22:10:03.854999Z",
          "shell.execute_reply": "2025-06-08T22:10:03.854225Z",
          "shell.execute_reply.started": "2025-06-08T22:10:03.843103Z"
        },
        "id": "b19mYb2qvPdf",
        "trusted": true
      },
      "outputs": [],
      "source": [
        "train_loader = DataLoader(train_dataset, batch_size=64, shuffle=True, num_workers=2)\n",
        "val_loader = DataLoader(val_dataset, batch_size=64, shuffle=False, num_workers=2)\n",
        "test_loader = DataLoader(test_dataset, batch_size=64, shuffle=False, num_workers=2)"
      ]
    },
    {
      "cell_type": "code",
      "execution_count": null,
      "id": "HaUI3iYYn_Hc",
      "metadata": {
        "execution": {
          "iopub.execute_input": "2025-06-08T22:10:03.855927Z",
          "iopub.status.busy": "2025-06-08T22:10:03.855746Z",
          "iopub.status.idle": "2025-06-08T22:10:04.937971Z",
          "shell.execute_reply": "2025-06-08T22:10:04.937068Z",
          "shell.execute_reply.started": "2025-06-08T22:10:03.855912Z"
        },
        "id": "HaUI3iYYn_Hc",
        "outputId": "ab87453e-ddf2-47ff-df06-e44d9aab1216",
        "trusted": true
      },
      "outputs": [
        {
          "name": "stderr",
          "output_type": "stream",
          "text": [
            "/usr/local/lib/python3.11/dist-packages/torchvision/models/_utils.py:208: UserWarning: The parameter 'pretrained' is deprecated since 0.13 and may be removed in the future, please use 'weights' instead.\n",
            "  warnings.warn(\n",
            "/usr/local/lib/python3.11/dist-packages/torchvision/models/_utils.py:223: UserWarning: Arguments other than a weight enum or `None` for 'weights' are deprecated since 0.13 and may be removed in the future. The current behavior is equivalent to passing `weights=ResNet50_Weights.IMAGENET1K_V1`. You can also use `weights=ResNet50_Weights.DEFAULT` to get the most up-to-date weights.\n",
            "  warnings.warn(msg)\n",
            "Downloading: \"https://download.pytorch.org/models/resnet50-0676ba61.pth\" to /root/.cache/torch/hub/checkpoints/resnet50-0676ba61.pth\n",
            "100%|██████████| 97.8M/97.8M [00:00<00:00, 204MB/s]\n"
          ]
        }
      ],
      "source": [
        "import torchvision.models as models\n",
        "res50=models.resnet50(pretrained=True)"
      ]
    },
    {
      "cell_type": "code",
      "execution_count": null,
      "id": "hP_yzcR1n_Ei",
      "metadata": {
        "execution": {
          "iopub.execute_input": "2025-06-08T22:10:04.940552Z",
          "iopub.status.busy": "2025-06-08T22:10:04.940334Z",
          "iopub.status.idle": "2025-06-08T22:10:04.944861Z",
          "shell.execute_reply": "2025-06-08T22:10:04.944096Z",
          "shell.execute_reply.started": "2025-06-08T22:10:04.940536Z"
        },
        "id": "hP_yzcR1n_Ei",
        "trusted": true
      },
      "outputs": [],
      "source": [
        "for name,par in res50.named_parameters():\n",
        "  if \"layer4\" in name or \"fc\" in name:\n",
        "    par.requires_grad=True\n",
        "  else:\n",
        "    par.requires_grad=False"
      ]
    },
    {
      "cell_type": "code",
      "execution_count": null,
      "id": "tzefgE0Bn_Ag",
      "metadata": {
        "execution": {
          "iopub.execute_input": "2025-06-08T22:10:04.945828Z",
          "iopub.status.busy": "2025-06-08T22:10:04.945594Z",
          "iopub.status.idle": "2025-06-08T22:10:04.963811Z",
          "shell.execute_reply": "2025-06-08T22:10:04.963301Z",
          "shell.execute_reply.started": "2025-06-08T22:10:04.945811Z"
        },
        "id": "tzefgE0Bn_Ag",
        "trusted": true
      },
      "outputs": [],
      "source": [
        "res50.fc=nn.Sequential(\n",
        "    nn.Linear(2048,512),\n",
        "    nn.ReLU(),\n",
        "    nn.Dropout(0.4),\n",
        "    nn.Linear(512,10)\n",
        ")"
      ]
    },
    {
      "cell_type": "code",
      "execution_count": null,
      "id": "qcenkJ-on-6R",
      "metadata": {
        "execution": {
          "iopub.execute_input": "2025-06-08T22:10:04.964616Z",
          "iopub.status.busy": "2025-06-08T22:10:04.964427Z",
          "iopub.status.idle": "2025-06-08T22:10:05.004633Z",
          "shell.execute_reply": "2025-06-08T22:10:05.004154Z",
          "shell.execute_reply.started": "2025-06-08T22:10:04.964601Z"
        },
        "id": "qcenkJ-on-6R",
        "trusted": true
      },
      "outputs": [],
      "source": [
        "device = torch.device(\"cuda\" if torch.cuda.is_available() else \"cpu\")\n",
        "res50.to(device)\n",
        "\n",
        "optimizer = torch.optim.Adam(filter(lambda p: p.requires_grad, res50.parameters()), lr=0.0001)\n",
        "criterion = nn.CrossEntropyLoss()"
      ]
    },
    {
      "cell_type": "code",
      "execution_count": 12,
      "id": "OPo_b5BmzdH_",
      "metadata": {
        "execution": {
          "iopub.execute_input": "2025-06-08T22:50:49.788947Z",
          "iopub.status.busy": "2025-06-08T22:50:49.788621Z",
          "iopub.status.idle": "2025-06-08T22:50:49.794115Z",
          "shell.execute_reply": "2025-06-08T22:50:49.793232Z",
          "shell.execute_reply.started": "2025-06-08T22:50:49.788926Z"
        },
        "id": "OPo_b5BmzdH_",
        "trusted": true
      },
      "outputs": [],
      "source": [
        "def eval_u(model,test_loader):\n",
        "  model.eval()\n",
        "  y_pred,y_true=[],[]\n",
        "\n",
        "  for images,labels in test_loader:\n",
        "    images,labels=images.to(device),labels.to(device)\n",
        "    outputs=model(images)\n",
        "    _,predicted=torch.max(outputs,1)\n",
        "    y_pred.extend(predicted.cpu().numpy())\n",
        "    y_true.extend(labels.cpu().numpy())\n",
        "\n",
        "  print(classification_report(y_true, y_pred, target_names=test_loader.dataset.classes))\n",
        "  print(\"Confusion Matrix:\")\n",
        "  print(confusion_matrix(y_true, y_pred))"
      ]
    },
    {
      "cell_type": "code",
      "execution_count": null,
      "id": "pBUIMHftvcVt",
      "metadata": {
        "colab": {
          "base_uri": "https://localhost:8080/",
          "height": 141
        },
        "execution": {
          "iopub.execute_input": "2025-06-08T22:10:05.011105Z",
          "iopub.status.busy": "2025-06-08T22:10:05.010878Z",
          "iopub.status.idle": "2025-06-08T22:50:37.262976Z",
          "shell.execute_reply": "2025-06-08T22:50:37.261946Z",
          "shell.execute_reply.started": "2025-06-08T22:10:05.011091Z"
        },
        "id": "pBUIMHftvcVt",
        "outputId": "b9cf37ac-a6e8-47b9-c720-2624c4d6694a",
        "trusted": true
      },
      "outputs": [
        {
          "name": "stdout",
          "output_type": "stream",
          "text": [
            "Epoch [1/10], Train Loss: 0.5661, Val Loss: 0.3519, Val Acc: 88.64%\n",
            "Epoch [2/10], Train Loss: 0.3271, Val Loss: 0.3439, Val Acc: 88.91%\n",
            "Epoch [3/10], Train Loss: 0.2112, Val Loss: 0.3837, Val Acc: 87.84%\n",
            "Epoch [4/10], Train Loss: 0.1476, Val Loss: 0.3907, Val Acc: 89.41%\n",
            "Epoch [5/10], Train Loss: 0.1321, Val Loss: 0.3513, Val Acc: 90.16%\n",
            "Epoch [6/10], Train Loss: 0.0995, Val Loss: 0.3364, Val Acc: 90.65%\n",
            "Epoch [7/10], Train Loss: 0.0576, Val Loss: 0.3672, Val Acc: 90.97%\n",
            "Epoch [8/10], Train Loss: 0.0585, Val Loss: 0.5076, Val Acc: 88.59%\n",
            "Epoch [9/10], Train Loss: 0.0585, Val Loss: 0.4100, Val Acc: 90.48%\n",
            "Epoch [10/10], Train Loss: 0.0392, Val Loss: 0.4746, Val Acc: 89.76%\n"
          ]
        }
      ],
      "source": [
        "res50_t=train_model(res50,train_loader,val_loader,epochs=10)"
      ]
    },
    {
      "cell_type": "raw",
      "id": "531b3325-fba7-41ee-8908-da0ff1eb3470",
      "metadata": {
        "id": "531b3325-fba7-41ee-8908-da0ff1eb3470"
      },
      "source": []
    },
    {
      "cell_type": "code",
      "execution_count": null,
      "id": "dgK9VEJP6UHO",
      "metadata": {
        "execution": {
          "iopub.execute_input": "2025-06-08T22:55:53.367404Z",
          "iopub.status.busy": "2025-06-08T22:55:53.366876Z",
          "iopub.status.idle": "2025-06-08T22:56:31.533098Z",
          "shell.execute_reply": "2025-06-08T22:56:31.532324Z",
          "shell.execute_reply.started": "2025-06-08T22:55:53.367384Z"
        },
        "id": "dgK9VEJP6UHO",
        "outputId": "b12e834a-234f-4198-b876-2f6dd5afbb5c",
        "trusted": true
      },
      "outputs": [
        {
          "name": "stdout",
          "output_type": "stream",
          "text": [
            "              precision    recall  f1-score   support\n",
            "\n",
            "    airplane       0.93      0.88      0.91      1000\n",
            "  automobile       0.95      0.95      0.95      1000\n",
            "        bird       0.80      0.92      0.85      1000\n",
            "         cat       0.89      0.71      0.79      1000\n",
            "        deer       0.91      0.84      0.88      1000\n",
            "         dog       0.88      0.78      0.83      1000\n",
            "        frog       0.91      0.95      0.93      1000\n",
            "       horse       0.80      0.97      0.88      1000\n",
            "        ship       0.91      0.95      0.93      1000\n",
            "       truck       0.95      0.93      0.94      1000\n",
            "\n",
            "    accuracy                           0.89     10000\n",
            "   macro avg       0.89      0.89      0.89     10000\n",
            "weighted avg       0.89      0.89      0.89     10000\n",
            "\n",
            "Confusion Matrix:\n",
            "[[877   5  25   9   1   0   1  20  54   8]\n",
            " [  3 954   1   1   0   0   1   5   7  28]\n",
            " [ 16   0 924   8  16   4  10  17   5   0]\n",
            " [  4   2  69 712  18  90  34  59   9   3]\n",
            " [  6   0  48   8 844   7  30  50   6   1]\n",
            " [  0   1  40  57  33 784  14  69   2   0]\n",
            " [  1   0  32   7   3   2 950   3   2   0]\n",
            " [  4   0  13   0  10   2   1 970   0   0]\n",
            " [ 20   4   9   0   0   0   4   4 946  13]\n",
            " [  7  37   1   1   0   0   3  15  10 926]]\n"
          ]
        }
      ],
      "source": [
        "eval_u(res50,test_loader)"
      ]
    },
    {
      "cell_type": "markdown",
      "id": "3fb78895-bcab-4e70-b7ea-1393c1d66f77",
      "metadata": {
        "id": "3fb78895-bcab-4e70-b7ea-1393c1d66f77"
      },
      "source": [
        "#**resnet152**"
      ]
    },
    {
      "cell_type": "code",
      "execution_count": null,
      "id": "c8550980-02ce-46fb-b6df-8d7dba1761af",
      "metadata": {
        "execution": {
          "iopub.execute_input": "2025-06-08T22:58:21.849915Z",
          "iopub.status.busy": "2025-06-08T22:58:21.849369Z",
          "iopub.status.idle": "2025-06-08T22:58:25.888917Z",
          "shell.execute_reply": "2025-06-08T22:58:25.888105Z",
          "shell.execute_reply.started": "2025-06-08T22:58:21.849886Z"
        },
        "id": "c8550980-02ce-46fb-b6df-8d7dba1761af",
        "outputId": "3e33278d-12e1-47e8-9408-c204b1557660",
        "trusted": true
      },
      "outputs": [
        {
          "name": "stderr",
          "output_type": "stream",
          "text": [
            "/usr/local/lib/python3.11/dist-packages/torchvision/models/_utils.py:208: UserWarning: The parameter 'pretrained' is deprecated since 0.13 and may be removed in the future, please use 'weights' instead.\n",
            "  warnings.warn(\n",
            "/usr/local/lib/python3.11/dist-packages/torchvision/models/_utils.py:223: UserWarning: Arguments other than a weight enum or `None` for 'weights' are deprecated since 0.13 and may be removed in the future. The current behavior is equivalent to passing `weights=ResNet152_Weights.IMAGENET1K_V1`. You can also use `weights=ResNet152_Weights.DEFAULT` to get the most up-to-date weights.\n",
            "  warnings.warn(msg)\n",
            "Downloading: \"https://download.pytorch.org/models/resnet152-394f9c45.pth\" to /root/.cache/torch/hub/checkpoints/resnet152-394f9c45.pth\n",
            "100%|██████████| 230M/230M [00:02<00:00, 94.2MB/s] \n"
          ]
        }
      ],
      "source": [
        "res152=models.resnet152(pretrained=True)"
      ]
    },
    {
      "cell_type": "code",
      "execution_count": null,
      "id": "55d5278d-34cc-4514-896e-3cf6993115f4",
      "metadata": {
        "execution": {
          "iopub.execute_input": "2025-06-08T22:58:40.789319Z",
          "iopub.status.busy": "2025-06-08T22:58:40.789023Z",
          "iopub.status.idle": "2025-06-08T22:58:40.794564Z",
          "shell.execute_reply": "2025-06-08T22:58:40.793867Z",
          "shell.execute_reply.started": "2025-06-08T22:58:40.789298Z"
        },
        "id": "55d5278d-34cc-4514-896e-3cf6993115f4",
        "trusted": true
      },
      "outputs": [],
      "source": [
        "for name,par in res152.named_parameters():\n",
        "    if \"layer4\" in name or \"fc\" in name:\n",
        "        par.requires_grad=True\n",
        "    else:\n",
        "        par.requires_grad=False"
      ]
    },
    {
      "cell_type": "code",
      "execution_count": null,
      "id": "b96f644a-33a3-4bda-9e27-a73e0270b1ea",
      "metadata": {
        "execution": {
          "iopub.execute_input": "2025-06-08T22:58:44.031301Z",
          "iopub.status.busy": "2025-06-08T22:58:44.031023Z",
          "iopub.status.idle": "2025-06-08T22:58:44.042552Z",
          "shell.execute_reply": "2025-06-08T22:58:44.041951Z",
          "shell.execute_reply.started": "2025-06-08T22:58:44.031281Z"
        },
        "id": "b96f644a-33a3-4bda-9e27-a73e0270b1ea",
        "trusted": true
      },
      "outputs": [],
      "source": [
        "res152.fc=nn.Sequential(\n",
        "    nn.Linear(2048,512),\n",
        "    nn.ReLU(),\n",
        "    nn.Dropout(0.4),\n",
        "    nn.Linear(512,10)\n",
        ")"
      ]
    },
    {
      "cell_type": "code",
      "execution_count": null,
      "id": "91bc77ba-eb21-4a5d-b451-fe2c01908977",
      "metadata": {
        "execution": {
          "iopub.execute_input": "2025-06-08T22:59:50.173033Z",
          "iopub.status.busy": "2025-06-08T22:59:50.172674Z",
          "iopub.status.idle": "2025-06-08T23:59:48.139740Z",
          "shell.execute_reply": "2025-06-08T23:59:48.138899Z",
          "shell.execute_reply.started": "2025-06-08T22:59:50.173008Z"
        },
        "id": "91bc77ba-eb21-4a5d-b451-fe2c01908977",
        "outputId": "d6c98860-6ffe-4cf8-d9f3-cbf8b5de7269",
        "trusted": true
      },
      "outputs": [
        {
          "name": "stdout",
          "output_type": "stream",
          "text": [
            "Epoch [1/7], Train Loss: 0.4913, Val Loss: 0.3238, Val Acc: 89.05%\n",
            "Epoch [2/7], Train Loss: 0.2675, Val Loss: 0.2816, Val Acc: 90.37%\n",
            "Epoch [3/7], Train Loss: 0.1727, Val Loss: 0.2506, Val Acc: 91.77%\n",
            "Epoch [4/7], Train Loss: 0.1211, Val Loss: 0.3398, Val Acc: 90.75%\n",
            "Epoch [5/7], Train Loss: 0.0987, Val Loss: 0.3154, Val Acc: 91.13%\n",
            "Epoch [6/7], Train Loss: 0.0610, Val Loss: 0.3005, Val Acc: 92.56%\n",
            "Epoch [7/7], Train Loss: 0.0469, Val Loss: 0.3721, Val Acc: 91.21%\n"
          ]
        },
        {
          "data": {
            "text/plain": [
              "([0.4912967299944476,\n",
              "  0.26746040161951146,\n",
              "  0.1727206695404716,\n",
              "  0.12107353486484827,\n",
              "  0.09872492675326372,\n",
              "  0.06097338451597756,\n",
              "  0.04688013462696392],\n",
              " [0.32379909844721777,\n",
              "  0.2815564856312032,\n",
              "  0.25056739069395145,\n",
              "  0.3398148565221641,\n",
              "  0.3153628283890627,\n",
              "  0.3005158313060716,\n",
              "  0.37207054432039544],\n",
              " [89.05333333333333,\n",
              "  90.37333333333333,\n",
              "  91.77333333333333,\n",
              "  90.74666666666667,\n",
              "  91.13333333333334,\n",
              "  92.56,\n",
              "  91.21333333333334])"
            ]
          },
          "execution_count": 42,
          "metadata": {},
          "output_type": "execute_result"
        }
      ],
      "source": [
        "res152.to(device)\n",
        "train_model(res152,train_loader,val_loader,epochs=7)"
      ]
    },
    {
      "cell_type": "code",
      "execution_count": null,
      "id": "7dd0f962",
      "metadata": {},
      "outputs": [],
      "source": []
    },
    {
      "cell_type": "code",
      "execution_count": null,
      "id": "126bb0c1-6f56-45bc-9806-9ded5fb15693",
      "metadata": {
        "execution": {
          "iopub.execute_input": "2025-06-09T00:00:05.253961Z",
          "iopub.status.busy": "2025-06-09T00:00:05.253622Z",
          "iopub.status.idle": "2025-06-09T00:01:33.474825Z",
          "shell.execute_reply": "2025-06-09T00:01:33.474057Z",
          "shell.execute_reply.started": "2025-06-09T00:00:05.253931Z"
        },
        "id": "126bb0c1-6f56-45bc-9806-9ded5fb15693",
        "outputId": "e18bb0b7-034f-41dc-af7e-ece11d9700b0",
        "trusted": true
      },
      "outputs": [
        {
          "name": "stdout",
          "output_type": "stream",
          "text": [
            "              precision    recall  f1-score   support\n",
            "\n",
            "    airplane       0.91      0.91      0.91      1000\n",
            "  automobile       0.98      0.89      0.93      1000\n",
            "        bird       0.93      0.90      0.92      1000\n",
            "         cat       0.83      0.86      0.84      1000\n",
            "        deer       0.90      0.94      0.92      1000\n",
            "         dog       0.92      0.84      0.88      1000\n",
            "        frog       0.94      0.95      0.95      1000\n",
            "       horse       0.92      0.94      0.93      1000\n",
            "        ship       0.98      0.89      0.93      1000\n",
            "       truck       0.82      0.99      0.90      1000\n",
            "\n",
            "    accuracy                           0.91     10000\n",
            "   macro avg       0.91      0.91      0.91     10000\n",
            "weighted avg       0.91      0.91      0.91     10000\n",
            "\n",
            "Confusion Matrix:\n",
            "[[909   1   9   5   5   0   4   7  12  48]\n",
            " [  4 887   2   6   0   0   2   1   0  98]\n",
            " [ 16   0 902  20  26   6  20   6   2   2]\n",
            " [  5   1  20 859  28  45  16  17   2   7]\n",
            " [  2   0  11  11 940   3   9  24   0   0]\n",
            " [  1   1  12  96  18 837   5  21   0   9]\n",
            " [  2   0   8  21   5   3 955   2   0   4]\n",
            " [  3   0   5  12  19  12   3 945   0   1]\n",
            " [ 52   6   2   5   1   0   3   2 886  43]\n",
            " [  3   7   0   2   0   0   0   0   2 986]]\n"
          ]
        }
      ],
      "source": [
        "eval_u(res152,test_loader)"
      ]
    }
  ],
  "metadata": {
    "accelerator": "TPU",
    "colab": {
      "gpuType": "V28",
      "provenance": []
    },
    "kaggle": {
      "accelerator": "nvidiaTeslaT4",
      "dataSources": [],
      "dockerImageVersionId": 31041,
      "isGpuEnabled": true,
      "isInternetEnabled": true,
      "language": "python",
      "sourceType": "notebook"
    },
    "kernelspec": {
      "display_name": "Python 3",
      "language": "python",
      "name": "python3"
    },
    "language_info": {
      "codemirror_mode": {
        "name": "ipython",
        "version": 3
      },
      "file_extension": ".py",
      "mimetype": "text/x-python",
      "name": "python",
      "nbconvert_exporter": "python",
      "pygments_lexer": "ipython3",
      "version": "3.11.11"
    }
  },
  "nbformat": 4,
  "nbformat_minor": 5
}
