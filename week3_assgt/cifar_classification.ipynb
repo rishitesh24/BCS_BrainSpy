{
 "cells": [
  {
   "cell_type": "code",
   "execution_count": 48,
   "id": "4050ceda",
   "metadata": {},
   "outputs": [],
   "source": [
    "import torch\n",
    "from torchvision import datasets, transforms\n",
    "from torch.utils.data import DataLoader, random_split"
   ]
  },
  {
   "cell_type": "code",
   "execution_count": 49,
   "id": "28e18ef3",
   "metadata": {},
   "outputs": [],
   "source": [
    "train_transform = transforms.Compose([\n",
    "    transforms.RandomHorizontalFlip(),\n",
    "    transforms.RandomCrop(32, padding=4),\n",
    "    transforms.RandomRotation(10),\n",
    "    transforms.ToTensor(),\n",
    "    transforms.Normalize((0.5, 0.5, 0.5),\n",
    "                         (0.5, 0.5, 0.5))\n",
    "])\n"
   ]
  },
  {
   "cell_type": "code",
   "execution_count": 50,
   "id": "c9282571",
   "metadata": {},
   "outputs": [],
   "source": [
    "test_transform = transforms.Compose([\n",
    "    transforms.ToTensor(),\n",
    "    transforms.Normalize((0.5, 0.5, 0.5),\n",
    "                         (0.5, 0.5, 0.5))\n",
    "])\n"
   ]
  },
  {
   "cell_type": "code",
   "execution_count": 51,
   "id": "052b2144",
   "metadata": {},
   "outputs": [],
   "source": [
    "full_train_dataset = datasets.CIFAR10(root='./data', train=True, download=True, transform=train_transform)\n"
   ]
  },
  {
   "cell_type": "code",
   "execution_count": 52,
   "id": "5018585e",
   "metadata": {},
   "outputs": [],
   "source": [
    "test_dataset = datasets.CIFAR10(root='./data', train=False, download=True, transform=test_transform)\n"
   ]
  },
  {
   "cell_type": "code",
   "execution_count": 53,
   "id": "0690e68f",
   "metadata": {},
   "outputs": [],
   "source": [
    "train_size = int(0.85 * len(full_train_dataset))\n",
    "val_size = len(full_train_dataset) - train_size\n"
   ]
  },
  {
   "cell_type": "code",
   "execution_count": 54,
   "id": "21173383",
   "metadata": {},
   "outputs": [],
   "source": [
    "train_dataset, val_dataset = random_split(full_train_dataset, [train_size, val_size])\n"
   ]
  },
  {
   "cell_type": "code",
   "execution_count": 55,
   "id": "31f2d3f6",
   "metadata": {},
   "outputs": [],
   "source": [
    "val_dataset.dataset.transform = test_transform\n"
   ]
  },
  {
   "cell_type": "code",
   "execution_count": 56,
   "id": "73e84dc2",
   "metadata": {},
   "outputs": [],
   "source": [
    "train_loader = DataLoader(train_dataset, batch_size=64, shuffle=True, num_workers=2)\n"
   ]
  },
  {
   "cell_type": "code",
   "execution_count": 57,
   "id": "971d08ed",
   "metadata": {},
   "outputs": [],
   "source": [
    "val_loader = DataLoader(val_dataset, batch_size=64, shuffle=False, num_workers=2)\n",
    "test_loader = DataLoader(test_dataset, batch_size=64, shuffle=False, num_workers=2)\n"
   ]
  },
  {
   "cell_type": "markdown",
   "id": "79e60cdd",
   "metadata": {},
   "source": [
    "ANN MODEL"
   ]
  },
  {
   "cell_type": "code",
   "execution_count": 12,
   "id": "ecd528fb",
   "metadata": {},
   "outputs": [],
   "source": [
    "import torch\n",
    "import torch.nn as nn\n",
    "import torch.nn.functional as F\n",
    "\n",
    "class SimpleANN(nn.Module):\n",
    "    def __init__(self):\n",
    "        super(SimpleANN, self).__init__()\n",
    "        self.fc1 = nn.Linear(32 * 32 * 3, 512)\n",
    "        self.fc2 = nn.Linear(512, 256)\n",
    "        self.fc3 = nn.Linear(256, 10)\n",
    "\n",
    "    def forward(self, x):\n",
    "        x = x.view(x.size(0), -1)\n",
    "        x = F.relu(self.fc1(x))\n",
    "        x = F.relu(self.fc2(x))\n",
    "        x = self.fc3(x)\n",
    "        return x\n"
   ]
  },
  {
   "cell_type": "code",
   "execution_count": null,
   "id": "e8bb22d4",
   "metadata": {},
   "outputs": [],
   "source": [
    "def train_model(model, train_loader, val_loader, epochs=10):\n",
    "    device = torch.device(\"cpu\")\n",
    "    model.to(device)\n",
    "\n",
    "    criterion = nn.CrossEntropyLoss()\n",
    "    optimizer = torch.optim.Adam(model.parameters(), lr=0.001, weight_decay=1e-5)\n",
    "\n",
    "    train_losses, val_losses, val_accuracies = [], [], []\n",
    "\n",
    "    for epoch in range(epochs):\n",
    "        model.train()\n",
    "        total_train_loss = 0\n",
    "\n",
    "        for images, labels in train_loader:\n",
    "            images, labels = images.to(device), labels.to(device)\n",
    "            optimizer.zero_grad()\n",
    "            outputs = model(images)\n",
    "            loss = criterion(outputs, labels)\n",
    "            loss.backward()\n",
    "            optimizer.step()\n",
    "            total_train_loss += loss.item()\n",
    "\n",
    "        # Validation\n",
    "        model.eval()\n",
    "        total_val_loss = 0\n",
    "        correct, total = 0, 0\n",
    "\n",
    "        with torch.no_grad():\n",
    "            for images, labels in val_loader:\n",
    "                images, labels = images.to(device), labels.to(device)\n",
    "                outputs = model(images)\n",
    "                loss = criterion(outputs, labels)\n",
    "                total_val_loss += loss.item()\n",
    "                _, predicted = outputs.max(1)\n",
    "                correct += (predicted == labels).sum().item()\n",
    "                total += labels.size(0)\n",
    "\n",
    "        train_losses.append(total_train_loss / len(train_loader))\n",
    "        val_losses.append(total_val_loss / len(val_loader))\n",
    "        val_accuracies.append(100 * correct / total)\n",
    "\n",
    "        print(f\"Epoch [{epoch+1}/{epochs}], Train Loss: {train_losses[-1]:.4f}, \"\n",
    "              f\"Val Loss: {val_losses[-1]:.4f}, Val Acc: {val_accuracies[-1]:.2f}%\")\n",
    "\n",
    "    return train_losses, val_losses, val_accuracies\n"
   ]
  },
  {
   "cell_type": "code",
   "execution_count": 18,
   "id": "0f648c1c",
   "metadata": {},
   "outputs": [
    {
     "name": "stdout",
     "output_type": "stream",
     "text": [
      "Epoch [1/7], Train Loss: 1.6568, Val Loss: 1.5397, Val Acc: 46.49%\n",
      "Epoch [2/7], Train Loss: 1.4505, Val Loss: 1.5011, Val Acc: 47.61%\n",
      "Epoch [3/7], Train Loss: 1.3321, Val Loss: 1.4802, Val Acc: 48.88%\n",
      "Epoch [4/7], Train Loss: 1.2413, Val Loss: 1.4025, Val Acc: 51.51%\n",
      "Epoch [5/7], Train Loss: 1.1549, Val Loss: 1.4122, Val Acc: 52.11%\n",
      "Epoch [6/7], Train Loss: 1.0768, Val Loss: 1.4492, Val Acc: 50.69%\n",
      "Epoch [7/7], Train Loss: 0.9983, Val Loss: 1.4274, Val Acc: 52.17%\n"
     ]
    }
   ],
   "source": [
    "model = SimpleANN()\n",
    "train_loss, val_loss, val_acc = train_model(model, train_loader, val_loader, epochs=7)\n"
   ]
  },
  {
   "cell_type": "code",
   "execution_count": 19,
   "id": "62544209",
   "metadata": {},
   "outputs": [
    {
     "name": "stdout",
     "output_type": "stream",
     "text": [
      "Epoch [1/12], Train Loss: 1.6554, Val Loss: 1.5298, Val Acc: 45.47%\n",
      "Epoch [2/12], Train Loss: 1.4494, Val Loss: 1.4522, Val Acc: 49.17%\n",
      "Epoch [3/12], Train Loss: 1.3389, Val Loss: 1.4104, Val Acc: 50.77%\n",
      "Epoch [4/12], Train Loss: 1.2348, Val Loss: 1.4123, Val Acc: 51.25%\n",
      "Epoch [5/12], Train Loss: 1.1572, Val Loss: 1.3897, Val Acc: 52.40%\n",
      "Epoch [6/12], Train Loss: 1.0693, Val Loss: 1.4267, Val Acc: 52.49%\n",
      "Epoch [7/12], Train Loss: 0.9976, Val Loss: 1.4318, Val Acc: 52.95%\n",
      "Epoch [8/12], Train Loss: 0.9247, Val Loss: 1.4778, Val Acc: 53.89%\n",
      "Epoch [9/12], Train Loss: 0.8357, Val Loss: 1.5453, Val Acc: 52.57%\n",
      "Epoch [10/12], Train Loss: 0.7690, Val Loss: 1.6058, Val Acc: 52.35%\n",
      "Epoch [11/12], Train Loss: 0.7052, Val Loss: 1.6799, Val Acc: 52.81%\n",
      "Epoch [12/12], Train Loss: 0.6415, Val Loss: 1.7731, Val Acc: 52.39%\n"
     ]
    }
   ],
   "source": [
    "model = SimpleANN()\n",
    "train_loss, val_loss, val_acc = train_model(model, train_loader, val_loader, epochs=12)"
   ]
  },
  {
   "cell_type": "code",
   "execution_count": 20,
   "id": "26606c0e",
   "metadata": {},
   "outputs": [
    {
     "name": "stdout",
     "output_type": "stream",
     "text": [
      "Epoch [1/20], Train Loss: 1.6539, Val Loss: 1.5103, Val Acc: 46.36%\n",
      "Epoch [2/20], Train Loss: 1.4450, Val Loss: 1.4340, Val Acc: 49.89%\n",
      "Epoch [3/20], Train Loss: 1.3363, Val Loss: 1.4175, Val Acc: 50.72%\n",
      "Epoch [4/20], Train Loss: 1.2420, Val Loss: 1.3897, Val Acc: 52.40%\n",
      "Epoch [5/20], Train Loss: 1.1571, Val Loss: 1.4199, Val Acc: 51.45%\n",
      "Epoch [6/20], Train Loss: 1.0721, Val Loss: 1.4363, Val Acc: 52.15%\n",
      "Epoch [7/20], Train Loss: 0.9959, Val Loss: 1.4110, Val Acc: 53.47%\n",
      "Epoch [8/20], Train Loss: 0.9170, Val Loss: 1.4616, Val Acc: 53.11%\n",
      "Epoch [9/20], Train Loss: 0.8472, Val Loss: 1.5235, Val Acc: 52.36%\n",
      "Epoch [10/20], Train Loss: 0.7744, Val Loss: 1.5987, Val Acc: 53.00%\n",
      "Epoch [11/20], Train Loss: 0.7020, Val Loss: 1.7154, Val Acc: 53.09%\n",
      "Epoch [12/20], Train Loss: 0.6431, Val Loss: 1.8126, Val Acc: 52.39%\n",
      "Epoch [13/20], Train Loss: 0.5972, Val Loss: 1.9043, Val Acc: 52.57%\n",
      "Epoch [14/20], Train Loss: 0.5443, Val Loss: 1.9878, Val Acc: 51.87%\n",
      "Epoch [15/20], Train Loss: 0.5020, Val Loss: 1.9858, Val Acc: 53.31%\n",
      "Epoch [16/20], Train Loss: 0.4585, Val Loss: 2.1929, Val Acc: 51.83%\n",
      "Epoch [17/20], Train Loss: 0.4396, Val Loss: 2.2582, Val Acc: 52.12%\n",
      "Epoch [18/20], Train Loss: 0.4098, Val Loss: 2.3769, Val Acc: 51.93%\n",
      "Epoch [19/20], Train Loss: 0.3790, Val Loss: 2.4972, Val Acc: 52.53%\n",
      "Epoch [20/20], Train Loss: 0.3629, Val Loss: 2.5948, Val Acc: 50.96%\n"
     ]
    }
   ],
   "source": [
    "model = SimpleANN()\n",
    "train_loss, val_loss, val_acc = train_model(model, train_loader, val_loader, epochs=20)"
   ]
  },
  {
   "cell_type": "code",
   "execution_count": 13,
   "id": "f5b8f076",
   "metadata": {},
   "outputs": [],
   "source": [
    "def eval_u(model, dataloader):\n",
    "    model.eval()\n",
    "    y_true = []\n",
    "    y_pred = []\n",
    "\n",
    "    with torch.no_grad():\n",
    "        for x, y in dataloader:\n",
    "            outputs = model(x)\n",
    "            _, preds = torch.max(outputs, 1)\n",
    "            y_true.extend(y.numpy())\n",
    "            y_pred.extend(preds.numpy())\n",
    "\n",
    "    from sklearn.metrics import classification_report\n",
    "    print(\"Classification Report:\")\n",
    "    print(classification_report(y_true, y_pred, digits=4))\n"
   ]
  },
  {
   "cell_type": "code",
   "execution_count": 29,
   "id": "78f23d1f",
   "metadata": {},
   "outputs": [
    {
     "name": "stdout",
     "output_type": "stream",
     "text": [
      "Classification Report:\n",
      "              precision    recall  f1-score   support\n",
      "\n",
      "           0     0.6092    0.6080    0.6086      1000\n",
      "           1     0.6983    0.5740    0.6301      1000\n",
      "           2     0.4773    0.3470    0.4019      1000\n",
      "           3     0.3674    0.3850    0.3760      1000\n",
      "           4     0.4534    0.4620    0.4577      1000\n",
      "           5     0.4102    0.4410    0.4251      1000\n",
      "           6     0.5627    0.6100    0.5854      1000\n",
      "           7     0.5412    0.6300    0.5823      1000\n",
      "           8     0.6809    0.5740    0.6229      1000\n",
      "           9     0.5270    0.6430    0.5793      1000\n",
      "\n",
      "    accuracy                         0.5274     10000\n",
      "   macro avg     0.5328    0.5274    0.5269     10000\n",
      "weighted avg     0.5328    0.5274    0.5269     10000\n",
      "\n"
     ]
    }
   ],
   "source": [
    "eval_u(model,test_loader)"
   ]
  },
  {
   "cell_type": "markdown",
   "id": "69aedc5e",
   "metadata": {},
   "source": [
    "VGG-16"
   ]
  },
  {
   "cell_type": "code",
   "execution_count": 58,
   "id": "395ebe5a",
   "metadata": {},
   "outputs": [],
   "source": [
    "from torchvision import models"
   ]
  },
  {
   "cell_type": "code",
   "execution_count": 59,
   "id": "8ce8f9fc",
   "metadata": {},
   "outputs": [],
   "source": [
    "transform = transforms.Compose([\n",
    "    transforms.Resize((224, 224)),  \n",
    "    transforms.ToTensor(),\n",
    "    transforms.Normalize((0.5,), (0.5,))\n",
    "])"
   ]
  },
  {
   "cell_type": "code",
   "execution_count": 17,
   "id": "fdf24d6d",
   "metadata": {},
   "outputs": [
    {
     "name": "stderr",
     "output_type": "stream",
     "text": [
      "c:\\Users\\Rakshita\\anaconda3\\Lib\\site-packages\\torchvision\\models\\_utils.py:208: UserWarning: The parameter 'pretrained' is deprecated since 0.13 and may be removed in the future, please use 'weights' instead.\n",
      "  warnings.warn(\n",
      "c:\\Users\\Rakshita\\anaconda3\\Lib\\site-packages\\torchvision\\models\\_utils.py:223: UserWarning: Arguments other than a weight enum or `None` for 'weights' are deprecated since 0.13 and may be removed in the future. The current behavior is equivalent to passing `weights=VGG16_Weights.IMAGENET1K_V1`. You can also use `weights=VGG16_Weights.DEFAULT` to get the most up-to-date weights.\n",
      "  warnings.warn(msg)\n"
     ]
    }
   ],
   "source": [
    "vgg16 = models.vgg16(pretrained=True)\n",
    "\n",
    "for param in vgg16.features.parameters():\n",
    "    param.requires_grad = False  # Freeze convolution layers\n",
    "\n",
    "vgg16.classifier[6] = nn.Linear(4096, 10)  # Change output layer to 10 classes\n"
   ]
  },
  {
   "cell_type": "code",
   "execution_count": 18,
   "id": "ef1def57",
   "metadata": {},
   "outputs": [],
   "source": [
    "criterion = nn.CrossEntropyLoss()\n",
    "optimizer = torch.optim.Adam(vgg16.classifier.parameters(), lr=0.0005)\n"
   ]
  },
  {
   "cell_type": "code",
   "execution_count": 19,
   "id": "9298eb3e",
   "metadata": {},
   "outputs": [
    {
     "name": "stdout",
     "output_type": "stream",
     "text": [
      "Epoch 1: Train Loss=1.3422, Val Loss=1.1072, Val Acc=61.31%\n",
      "Epoch 2: Train Loss=1.2073, Val Loss=1.0330, Val Acc=64.71%\n",
      "Epoch 3: Train Loss=1.1604, Val Loss=1.0377, Val Acc=65.25%\n",
      "Epoch 4: Train Loss=1.1157, Val Loss=1.0051, Val Acc=65.45%\n",
      "Epoch 5: Train Loss=1.0826, Val Loss=1.0091, Val Acc=65.79%\n"
     ]
    }
   ],
   "source": [
    "train_losses, val_losses, val_accuracies = [], [], []\n",
    "\n",
    "for epoch in range(5):\n",
    "    vgg16.train()\n",
    "    train_loss = 0\n",
    "\n",
    "    for images, labels in train_loader:\n",
    "        outputs = vgg16(images)\n",
    "        loss = criterion(outputs, labels)\n",
    "        optimizer.zero_grad()\n",
    "        loss.backward()\n",
    "        optimizer.step()\n",
    "        train_loss += loss.item()\n",
    "\n",
    "    vgg16.eval()\n",
    "    val_loss = 0\n",
    "    correct, total = 0, 0\n",
    "\n",
    "    with torch.no_grad():\n",
    "        for images, labels in val_loader:\n",
    "            outputs = vgg16(images)\n",
    "            loss = criterion(outputs, labels)\n",
    "            val_loss += loss.item()\n",
    "\n",
    "            _, preds = torch.max(outputs, 1)\n",
    "            correct += (preds == labels).sum().item()\n",
    "            total += labels.size(0)\n",
    "\n",
    "    train_losses.append(train_loss / len(train_loader))\n",
    "    val_losses.append(val_loss / len(val_loader))\n",
    "    val_accuracies.append(100 * correct / total)\n",
    "\n",
    "    print(f\"Epoch {epoch+1}: Train Loss={train_losses[-1]:.4f}, \"\n",
    "          f\"Val Loss={val_losses[-1]:.4f}, Val Acc={val_accuracies[-1]:.2f}%\")\n"
   ]
  },
  {
   "cell_type": "code",
   "execution_count": 20,
   "id": "4335a289",
   "metadata": {},
   "outputs": [
    {
     "name": "stdout",
     "output_type": "stream",
     "text": [
      "Classification Report:\n",
      "              precision    recall  f1-score   support\n",
      "\n",
      "           0     0.7261    0.6390    0.6798      1000\n",
      "           1     0.6731    0.8070    0.7340      1000\n",
      "           2     0.6318    0.5250    0.5735      1000\n",
      "           3     0.5046    0.6090    0.5519      1000\n",
      "           4     0.6327    0.5460    0.5862      1000\n",
      "           5     0.7080    0.5190    0.5990      1000\n",
      "           6     0.5848    0.8070    0.6782      1000\n",
      "           7     0.7047    0.6490    0.6757      1000\n",
      "           8     0.7341    0.7400    0.7371      1000\n",
      "           9     0.6871    0.6720    0.6795      1000\n",
      "\n",
      "    accuracy                         0.6513     10000\n",
      "   macro avg     0.6587    0.6513    0.6495     10000\n",
      "weighted avg     0.6587    0.6513    0.6495     10000\n",
      "\n"
     ]
    }
   ],
   "source": [
    "eval_u(vgg16,test_loader)"
   ]
  },
  {
   "cell_type": "markdown",
   "id": "68159556",
   "metadata": {},
   "source": [
    "VGG 19"
   ]
  },
  {
   "cell_type": "code",
   "execution_count": 21,
   "id": "6a89ebf1",
   "metadata": {},
   "outputs": [
    {
     "name": "stderr",
     "output_type": "stream",
     "text": [
      "c:\\Users\\Rakshita\\anaconda3\\Lib\\site-packages\\torchvision\\models\\_utils.py:208: UserWarning: The parameter 'pretrained' is deprecated since 0.13 and may be removed in the future, please use 'weights' instead.\n",
      "  warnings.warn(\n",
      "c:\\Users\\Rakshita\\anaconda3\\Lib\\site-packages\\torchvision\\models\\_utils.py:223: UserWarning: Arguments other than a weight enum or `None` for 'weights' are deprecated since 0.13 and may be removed in the future. The current behavior is equivalent to passing `weights=VGG19_Weights.IMAGENET1K_V1`. You can also use `weights=VGG19_Weights.DEFAULT` to get the most up-to-date weights.\n",
      "  warnings.warn(msg)\n"
     ]
    }
   ],
   "source": [
    "vgg19 = models.vgg19(pretrained=True)\n",
    "\n",
    "for param in vgg19.features.parameters():\n",
    "    param.requires_grad = False\n",
    "\n",
    "\n",
    "vgg19.classifier[6] = nn.Linear(4096, 10)\n"
   ]
  },
  {
   "cell_type": "code",
   "execution_count": 41,
   "id": "deab0bd3",
   "metadata": {},
   "outputs": [],
   "source": [
    "def train(model, train_loader, val_loader, epochs=7):\n",
    "    criterion = nn.CrossEntropyLoss()\n",
    "    optimizer = torch.optim.Adam(model.classifier.parameters(), lr=0.001)\n",
    "\n",
    "    train_losses, val_accuracies = [], []\n",
    "\n",
    "    for epoch in range(epochs):\n",
    "        model.train()\n",
    "        total_loss = 0\n",
    "\n",
    "        for x, y in train_loader:\n",
    "            outputs = model(x)\n",
    "            loss = criterion(outputs, y)\n",
    "            optimizer.zero_grad()\n",
    "            loss.backward()\n",
    "            optimizer.step()\n",
    "            total_loss += loss.item()\n",
    "\n",
    "        # Validation\n",
    "        model.eval()\n",
    "        correct, total = 0, 0\n",
    "        with torch.no_grad():\n",
    "            for x, y in val_loader:\n",
    "                outputs = model(x)\n",
    "                _, preds = torch.max(outputs, 1)\n",
    "                correct += (preds == y).sum().item()\n",
    "                total += y.size(0)\n",
    "\n",
    "        acc = 100 * correct / total\n",
    "        train_losses.append(total_loss / len(train_loader))\n",
    "        val_accuracies.append(acc)\n",
    "\n",
    "        print(f\"Epoch {epoch+1}: Train Loss = {train_losses[-1]:.4f}, Val Acc = {acc:.2f}%\")\n",
    "\n",
    "    return train_losses, val_accuracies\n"
   ]
  },
  {
   "cell_type": "code",
   "execution_count": 22,
   "id": "8fb69f88",
   "metadata": {},
   "outputs": [
    {
     "name": "stdout",
     "output_type": "stream",
     "text": [
      "Epoch 1: Train Loss = 1.5927, Val Acc = 54.19%\n",
      "Epoch 2: Train Loss = 1.4915, Val Acc = 57.41%\n",
      "Epoch 3: Train Loss = 1.4342, Val Acc = 60.87%\n",
      "Epoch 4: Train Loss = 1.4107, Val Acc = 58.08%\n",
      "Epoch 5: Train Loss = 1.3842, Val Acc = 61.39%\n",
      "Epoch 6: Train Loss = 1.3488, Val Acc = 60.77%\n",
      "Epoch 7: Train Loss = 1.3190, Val Acc = 62.32%\n"
     ]
    }
   ],
   "source": [
    "train_losses, val_accuracies = train(vgg19, train_loader, val_loader, epochs=7)\n"
   ]
  }
 ],
 "metadata": {
  "kernelspec": {
   "display_name": "base",
   "language": "python",
   "name": "python3"
  },
  "language_info": {
   "codemirror_mode": {
    "name": "ipython",
    "version": 3
   },
   "file_extension": ".py",
   "mimetype": "text/x-python",
   "name": "python",
   "nbconvert_exporter": "python",
   "pygments_lexer": "ipython3",
   "version": "3.12.4"
  }
 },
 "nbformat": 4,
 "nbformat_minor": 5
}
